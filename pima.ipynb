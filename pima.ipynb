{
 "cells": [
  {
   "cell_type": "code",
   "execution_count": 1,
   "metadata": {},
   "outputs": [],
   "source": [
    "import numpy as np\n",
    "import pandas as pd\n",
    "from torch.utils.data.dataset import Dataset\n",
    "import torch\n",
    "import torch.nn as nn\n",
    "from torch import optim\n",
    "\n"
   ]
  },
  {
   "cell_type": "code",
   "execution_count": 14,
   "metadata": {},
   "outputs": [],
   "source": [
    "label_idx = {'0': 0, '1': 1}\n",
    "class PimaDataset(Dataset):\n",
    "\n",
    "    def __init__(self, data):\n",
    "        self.data = data\n",
    "           \n",
    "    def __getitem__(self, index):\n",
    "        item = self.data.iloc[index].values    \n",
    "        return (item[0:8].astype(np.float32), item[8].astype(np.int))\n",
    "\n",
    "    def __len__(self):\n",
    "        return self.data.shape[0]\n",
    "\n",
    "\n",
    "    def get_datasets(pima_file, train_ratio=0.60,valid_ratio=0.20,test_ratio=0.20):\n",
    "\n",
    "        labels = {'class': label_idx}\n",
    "        df = pd.read_csv(pima_file)\n",
    "        data=(df-df.mean())/df.std()\n",
    "        data.replace(labels, inplace=True)\n",
    "\n",
    "        train_df = data.sample(frac=train_ratio, random_state=10)\n",
    "        validation_df = data.sample(frac=valid_ratio, random_state=10)\n",
    "        test_df = data.sample(frac=test_ratio, random_state=10)\n",
    "\n",
    "        return PimaDataset(train_df), PimaDataset(validation_df),PimaDataset(test_df)\n",
    "    \n"
   ]
  },
  {
   "cell_type": "code",
   "execution_count": 15,
   "metadata": {},
   "outputs": [],
   "source": [
    "pima_file = \"diabetes.csv\""
   ]
  },
  {
   "cell_type": "code",
   "execution_count": 16,
   "metadata": {},
   "outputs": [],
   "source": [
    "train_ds,validation_ds,test_ds = PimaDataset.get_datasets(pima_file)"
   ]
  },
  {
   "cell_type": "code",
   "execution_count": 17,
   "metadata": {},
   "outputs": [
    {
     "name": "stdout",
     "output_type": "stream",
     "text": [
      "# instances in training set:  461\n",
      "# instances in validation set:  154\n",
      "# instances in test set:  154\n"
     ]
    }
   ],
   "source": [
    "print('# instances in training set: ', len(train_ds))\n",
    "print('# instances in validation set: ', len(validation_ds))\n",
    "print('# instances in test set: ', len(test_ds))"
   ]
  },
  {
   "cell_type": "code",
   "execution_count": 18,
   "metadata": {},
   "outputs": [],
   "source": [
    "batch_size = 50\n",
    "train_loader = torch.utils.data.DataLoader(dataset=train_ds, batch_size=batch_size, shuffle=True)\n",
    "validation_loader = torch.utils.data.DataLoader(dataset=validation_ds, batch_size=batch_size, shuffle=True)\n",
    "test_loader  = torch.utils.data.DataLoader(dataset=test_ds, batch_size=batch_size, shuffle=True)"
   ]
  },
  {
   "cell_type": "code",
   "execution_count": 19,
   "metadata": {},
   "outputs": [],
   "source": [
    "import torch.nn.functional as F\n",
    "class PimaNet(nn.Module):\n",
    "    \n",
    "    def __init__(self, input_size, hidden1_size,hidden2_size,num_classes):\n",
    "        \n",
    "        super(PimaNet, self).__init__()\n",
    "\n",
    "        self.fc1 = nn.Linear(input_size, hidden1_size)\n",
    "        #self.bn_layer = nn.BatchNorm1d(hidden1_size)\n",
    "        self.relu1 = nn.ReLU()\n",
    "        self.fc2 = nn.Linear(hidden1_size, hidden2_size)\n",
    "        self.relu2 = nn.ReLU()\n",
    "        self.fc3 = nn.Linear(hidden2_size, num_classes)   \n",
    "       \n",
    "    def forward(self, x):\n",
    "        \n",
    "        x = self.fc1(x)\n",
    "        x = self.relu1(x)\n",
    "        x = self.fc2(x)\n",
    "        x = F.log_softmax(self.fc3(x), dim=1)\n",
    "        return x\n",
    "    "
   ]
  },
  {
   "cell_type": "code",
   "execution_count": 20,
   "metadata": {},
   "outputs": [
    {
     "name": "stdout",
     "output_type": "stream",
     "text": [
      "PimaNet(\n",
      "  (fc1): Linear(in_features=8, out_features=200, bias=True)\n",
      "  (relu1): ReLU()\n",
      "  (fc2): Linear(in_features=200, out_features=100, bias=True)\n",
      "  (relu2): ReLU()\n",
      "  (fc3): Linear(in_features=100, out_features=2, bias=True)\n",
      ")\n"
     ]
    }
   ],
   "source": [
    "net = PimaNet(8, 200,100, 2)\n",
    "print(net)"
   ]
  },
  {
   "cell_type": "code",
   "execution_count": 21,
   "metadata": {},
   "outputs": [],
   "source": [
    "criterion = nn.CrossEntropyLoss()\n",
    "learning_rate = 0.001\n",
    "optimizer = optim.Adam(net.parameters(), lr=learning_rate)"
   ]
  },
  {
   "cell_type": "code",
   "execution_count": 22,
   "metadata": {},
   "outputs": [
    {
     "name": "stdout",
     "output_type": "stream",
     "text": [
      "Epoch: 1/50,Training loss:0.5954942017793655,Validation loss: 0.7522308751940727,validation Accuracy: 63.75%\n",
      "Epoch: 2/50,Training loss:0.5313372120261193,Validation loss: 0.5930711813271046,validation Accuracy: 76.25%\n",
      "Epoch: 3/50,Training loss:0.5090264211098353,Validation loss: 0.5416760345300039,validation Accuracy: 77.25%\n",
      "Epoch: 4/50,Training loss:0.4915980063378811,Validation loss: 0.5150669328868389,validation Accuracy: 79.75%\n",
      "Epoch: 5/50,Training loss:0.48300216555595393,Validation loss: 0.5385347500443458,validation Accuracy: 79.24999237060547%\n",
      "Epoch: 6/50,Training loss:0.4716999483605226,Validation loss: 0.5206041298806667,validation Accuracy: 78.25%\n",
      "Epoch: 7/50,Training loss:0.4670833547200475,Validation loss: 0.49590428865381647,validation Accuracy: 84.5%\n",
      "Epoch: 8/50,Training loss:0.46765191238373516,Validation loss: 0.48536851489916444,validation Accuracy: 85.49999237060547%\n",
      "Epoch: 9/50,Training loss:0.4650215057863129,Validation loss: 0.46999285577072036,validation Accuracy: 86.0%\n",
      "Epoch: 10/50,Training loss:0.46016511484980577,Validation loss: 0.46554640047252177,validation Accuracy: 80.25%\n",
      "Epoch: 11/50,Training loss:0.4561538415876301,Validation loss: 0.4576029388064688,validation Accuracy: 85.5%\n",
      "Epoch: 12/50,Training loss:0.4530832902838786,Validation loss: 0.45352909062057734,validation Accuracy: 79.25%\n",
      "Epoch: 13/50,Training loss:0.45005902796983716,Validation loss: 0.44666264893916935,validation Accuracy: 87.0%\n",
      "Epoch: 14/50,Training loss:0.4463631358529839,Validation loss: 0.44910978845187594,validation Accuracy: 74.5%\n",
      "Epoch: 15/50,Training loss:0.44264597624540325,Validation loss: 0.44892771939436593,validation Accuracy: 75.0%\n",
      "Epoch: 16/50,Training loss:0.43905084906145925,Validation loss: 0.4473491576500237,validation Accuracy: 80.75%\n",
      "Epoch: 17/50,Training loss:0.43912391408401374,Validation loss: 0.4449586925261161,validation Accuracy: 80.75%\n",
      "Epoch: 18/50,Training loss:0.43551203095250657,Validation loss: 0.4373578896953,validation Accuracy: 86.5%\n",
      "Epoch: 19/50,Training loss:0.43208497856792644,Validation loss: 0.43589263056453903,validation Accuracy: 81.25%\n",
      "Epoch: 20/50,Training loss:0.4292342475056648,Validation loss: 0.433965153247118,validation Accuracy: 87.0%\n",
      "Epoch: 21/50,Training loss:0.4262557726530801,Validation loss: 0.4341226138529323,validation Accuracy: 80.25%\n",
      "Epoch: 22/50,Training loss:0.42307196401736946,Validation loss: 0.42971080710942094,validation Accuracy: 87.0%\n",
      "Epoch: 23/50,Training loss:0.4205454920297083,Validation loss: 0.4270844546997029,validation Accuracy: 80.75%\n",
      "Epoch: 24/50,Training loss:0.4178886049116651,Validation loss: 0.4265294714520375,validation Accuracy: 74.5%\n",
      "Epoch: 25/50,Training loss:0.4154803355336189,Validation loss: 0.42572149246931074,validation Accuracy: 81.25%\n",
      "Epoch: 26/50,Training loss:0.41388411344243925,Validation loss: 0.42786699504806447,validation Accuracy: 82.25%\n",
      "Epoch: 27/50,Training loss:0.41147400427747655,Validation loss: 0.42347169294953346,validation Accuracy: 85.49999237060547%\n",
      "Epoch: 28/50,Training loss:0.409789186503206,Validation loss: 0.42553834098258186,validation Accuracy: 75.5%\n",
      "Epoch: 29/50,Training loss:0.40781004428863527,Validation loss: 0.42113742669080867,validation Accuracy: 86.0%\n",
      "Epoch: 30/50,Training loss:0.4059186242520809,Validation loss: 0.4178384855389595,validation Accuracy: 81.75%\n",
      "Epoch: 31/50,Training loss:0.4044999974869913,Validation loss: 0.4141911021884411,validation Accuracy: 86.0%\n",
      "Epoch: 32/50,Training loss:0.40216326219961046,Validation loss: 0.4116311602992937,validation Accuracy: 81.75%\n",
      "Epoch: 33/50,Training loss:0.4002433540243091,Validation loss: 0.4091951067023205,validation Accuracy: 81.75%\n",
      "Epoch: 34/50,Training loss:0.39785738587379454,Validation loss: 0.4050606972373584,validation Accuracy: 89.5%\n",
      "Epoch: 35/50,Training loss:0.39555319092103414,Validation loss: 0.40315161485757145,validation Accuracy: 82.25%\n",
      "Epoch: 36/50,Training loss:0.39406020604074,Validation loss: 0.39892812890725005,validation Accuracy: 88.0%\n",
      "Epoch: 37/50,Training loss:0.3919204433222075,Validation loss: 0.39626405297501666,validation Accuracy: 87.5%\n",
      "Epoch: 38/50,Training loss:0.38979867343839847,Validation loss: 0.39329526563616174,validation Accuracy: 87.5%\n",
      "Epoch: 39/50,Training loss:0.3884306936691969,Validation loss: 0.39281456506787205,validation Accuracy: 77.5%\n",
      "Epoch: 40/50,Training loss:0.38624584138393403,Validation loss: 0.38998497361317275,validation Accuracy: 89.0%\n",
      "Epoch: 41/50,Training loss:0.38495131265826343,Validation loss: 0.38726833271907596,validation Accuracy: 90.0%\n",
      "Epoch: 42/50,Training loss:0.3828473505519686,Validation loss: 0.38479050523823216,validation Accuracy: 89.0%\n",
      "Epoch: 43/50,Training loss:0.380547546855239,Validation loss: 0.3828561729643234,validation Accuracy: 89.5%\n",
      "Epoch: 44/50,Training loss:0.3780531506816095,Validation loss: 0.38046583719551563,validation Accuracy: 90.0%\n",
      "Epoch: 45/50,Training loss:0.37630768671631815,Validation loss: 0.3772463921043608,validation Accuracy: 91.5%\n",
      "Epoch: 46/50,Training loss:0.3743217072571102,Validation loss: 0.37520907543923543,validation Accuracy: 84.75%\n",
      "Epoch: 47/50,Training loss:0.37197201725967394,Validation loss: 0.3721270054737304,validation Accuracy: 93.0%\n",
      "Epoch: 48/50,Training loss:0.3701003009298196,Validation loss: 0.37096773569161695,validation Accuracy: 85.74999237060547%\n",
      "Epoch: 49/50,Training loss:0.3677985463063328,Validation loss: 0.36785394181402364,validation Accuracy: 91.5%\n",
      "Epoch: 50/50,Training loss:0.3656306481510401,Validation loss: 0.3660831162333488,validation Accuracy: 87.24999237060547%\n"
     ]
    }
   ],
   "source": [
    "num_epochs = 50\n",
    "\n",
    "train_losses, valid_losses = [], []\n",
    "for epoch in range(num_epochs):\n",
    "    running_loss = 0\n",
    "    for i, (items, classes) in enumerate(train_loader):\n",
    "    \n",
    "        net.train()           \n",
    "\n",
    "        optimizer.zero_grad() \n",
    "        outputs = net(items)  \n",
    "        loss = criterion(outputs, classes) \n",
    "        loss.backward()       \n",
    "        optimizer.step()      \n",
    "\n",
    "        running_loss += loss.item()\n",
    "\n",
    "    else:\n",
    "        net.eval()\n",
    "        valid_loss = 0\n",
    "        accuracy = 0\n",
    "        with torch.no_grad():\n",
    "            for i, (items, classes) in enumerate(validation_loader):\n",
    "                outputs = net(items)\n",
    "                loss = criterion(outputs,classes)\n",
    "                valid_loss += loss.item()\n",
    "                ps = torch.exp(outputs)\n",
    "                \n",
    "                top_p, top_class = ps.topk(1, dim=1)\n",
    "                labels = classes.view(*top_class.shape)\n",
    "                \n",
    "                equals = top_class == labels\n",
    "                accuracy += torch.mean(equals.type(torch.FloatTensor))\n",
    "                \n",
    "                \n",
    "        train_losses.append(running_loss/len(train_loader))\n",
    "        valid_losses.append(valid_loss/len(validation_loader))\n",
    "        print(f'Epoch: {epoch+1}/{num_epochs},Training loss:{sum(train_losses)/len(train_losses)},Validation loss: {sum(valid_losses)/len(valid_losses)},validation Accuracy: {accuracy/len(validation_loader)*100}%')\n"
   ]
  },
  {
   "cell_type": "code",
   "execution_count": 24,
   "metadata": {},
   "outputs": [
    {
     "data": {
      "text/plain": [
       "<matplotlib.legend.Legend at 0x108478898>"
      ]
     },
     "execution_count": 24,
     "metadata": {},
     "output_type": "execute_result"
    },
    {
     "data": {
      "image/png": "[encoded data removed]",
      "text/plain": [
       "<Figure size 432x288 with 1 Axes>"
      ]
     },
     "metadata": {
      "needs_background": "light"
     },
     "output_type": "display_data"
    }
   ],
   "source": [
    "import matplotlib.pyplot as plt\n",
    "plt.plot(train_losses, label='Training loss')\n",
    "plt.plot(valid_losses, label='Validation loss')\n",
    "plt.legend(frameon=False)"
   ]
  },
  {
   "cell_type": "code",
   "execution_count": 30,
   "metadata": {},
   "outputs": [
    {
     "name": "stdout",
     "output_type": "stream",
     "text": [
      "Accuracy: 93.0%\n",
      "Predicted:tensor([[1],\n",
      "        [0],\n",
      "        [0],\n",
      "        [0]])\n",
      "actual:tensor([1, 0, 0, 0])\n"
     ]
    }
   ],
   "source": [
    "# predict test data:\n",
    "accuracy = 0\n",
    "with torch.no_grad():    \n",
    "    for i, (items, classes) in enumerate(test_loader):\n",
    "        outputs = net(items)\n",
    "        \n",
    "        ps = torch.exp(outputs)\n",
    "\n",
    "        top_p, top_class = ps.topk(1, dim=1)\n",
    "        labels = classes.view(*top_class.shape)\n",
    "\n",
    "        equals = top_class == labels\n",
    "        accuracy += torch.mean(equals.type(torch.FloatTensor))\n",
    "print(f'Accuracy: {accuracy/len(test_loader)*100}%')\n",
    "print(f'Predicted:{top_class}')\n",
    "print(f'actual:{classes}')      "
   ]
  },
  {
   "cell_type": "code",
   "execution_count": null,
   "metadata": {},
   "outputs": [],
   "source": []
  }
 ],
 "metadata": {
  "kernelspec": {
   "display_name": "Python 3",
   "language": "python",
   "name": "python3"
  },
  "language_info": {
   "codemirror_mode": {
    "name": "ipython",
    "version": 3
   },
   "file_extension": ".py",
   "mimetype": "text/x-python",
   "name": "python",
   "nbconvert_exporter": "python",
   "pygments_lexer": "ipython3",
   "version": "3.7.3"
  }
 },
 "nbformat": 4,
 "nbformat_minor": 2
}
