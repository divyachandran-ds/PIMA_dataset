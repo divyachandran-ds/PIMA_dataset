{
 "cells": [
  {
   "cell_type": "code",
   "execution_count": 1,
   "metadata": {},
   "outputs": [],
   "source": [
    "#  Import necessary libraries\n",
    "import numpy as np\n",
    "import pandas as pd\n",
    "from torch.utils.data.dataset import Dataset\n",
    "import torch\n",
    "import torch.nn as nn\n",
    "from torch import optim"
   ]
  },
  {
   "cell_type": "code",
   "execution_count": 2,
   "metadata": {},
   "outputs": [],
   "source": [
    "# Pima dataset\n",
    "\n",
    "class PimaDataset(Dataset):\n",
    "\n",
    "    def __init__(self, data):\n",
    "        self.data = data\n",
    "           \n",
    "    def __getitem__(self, index):\n",
    "        item = self.data.iloc[index].values    \n",
    "        return (item[0:8].astype(np.float32), item[8].astype(np.int))\n",
    "\n",
    "    def __len__(self):\n",
    "        return self.data.shape[0]\n",
    "\n",
    "\n",
    "    def get_datasets(pima_file, train_ratio=0.60,valid_ratio=0.20,test_ratio=0.20):\n",
    "\n",
    "        \n",
    "        df = pd.read_csv(pima_file)\n",
    "        data=(df-df.mean())/df.std()\n",
    "\n",
    "        train_df = data.sample(frac=train_ratio, random_state=5)\n",
    "        validation_df = data.sample(frac=valid_ratio, random_state=5)\n",
    "        test_df = data.sample(frac=test_ratio, random_state=5)\n",
    "\n",
    "        return PimaDataset(train_df), PimaDataset(validation_df),PimaDataset(test_df)\n",
    "    \n"
   ]
  },
  {
   "cell_type": "code",
   "execution_count": 3,
   "metadata": {},
   "outputs": [],
   "source": [
    "pima_file = \"diabetes.csv\""
   ]
  },
  {
   "cell_type": "code",
   "execution_count": 4,
   "metadata": {},
   "outputs": [],
   "source": [
    "# Get train, validation and test data\n",
    "train_ds,validation_ds,test_ds = PimaDataset.get_datasets(pima_file)"
   ]
  },
  {
   "cell_type": "code",
   "execution_count": 5,
   "metadata": {},
   "outputs": [
    {
     "name": "stdout",
     "output_type": "stream",
     "text": [
      "# instances in training set:  461\n",
      "# instances in validation set:  154\n",
      "# instances in test set:  154\n"
     ]
    }
   ],
   "source": [
    "print('# instances in training set: ', len(train_ds))\n",
    "print('# instances in validation set: ', len(validation_ds))\n",
    "print('# instances in test set: ', len(test_ds))"
   ]
  },
  {
   "cell_type": "code",
   "execution_count": 6,
   "metadata": {},
   "outputs": [],
   "source": [
    "# load dataloader\n",
    "batch_size = 50\n",
    "train_loader = torch.utils.data.DataLoader(dataset=train_ds, batch_size=batch_size, shuffle=True)\n",
    "validation_loader = torch.utils.data.DataLoader(dataset=validation_ds, batch_size=batch_size, shuffle=True)\n",
    "test_loader  = torch.utils.data.DataLoader(dataset=test_ds, batch_size=batch_size, shuffle=True)"
   ]
  },
  {
   "cell_type": "code",
   "execution_count": 7,
   "metadata": {},
   "outputs": [],
   "source": [
    "# create net\n",
    "import torch.nn.functional as F\n",
    "class PimaNet(nn.Module):\n",
    "    \n",
    "    def __init__(self, input_size, hidden1_size,hidden2_size,num_classes):\n",
    "        \n",
    "        super(PimaNet, self).__init__()\n",
    "\n",
    "        self.fc1 = nn.Linear(input_size, hidden1_size)\n",
    "        self.relu1 = nn.ReLU()\n",
    "        self.fc2 = nn.Linear(hidden1_size, hidden2_size)\n",
    "        self.relu2 = nn.ReLU()\n",
    "        self.fc3 = nn.Linear(hidden2_size, num_classes)   \n",
    "       \n",
    "    def forward(self, x):\n",
    "        \n",
    "        x = self.fc1(x)\n",
    "        x = self.relu1(x)\n",
    "        x = self.fc2(x)\n",
    "        x = self.relu2(x)\n",
    "        x = F.log_softmax(self.fc3(x), dim=1)\n",
    "        return x\n",
    "    "
   ]
  },
  {
   "cell_type": "code",
   "execution_count": 8,
   "metadata": {},
   "outputs": [
    {
     "name": "stdout",
     "output_type": "stream",
     "text": [
      "PimaNet(\n",
      "  (fc1): Linear(in_features=8, out_features=200, bias=True)\n",
      "  (relu1): ReLU()\n",
      "  (fc2): Linear(in_features=200, out_features=100, bias=True)\n",
      "  (relu2): ReLU()\n",
      "  (fc3): Linear(in_features=100, out_features=2, bias=True)\n",
      ")\n"
     ]
    }
   ],
   "source": [
    "net = PimaNet(8, 200,100, 2)\n",
    "print(net)"
   ]
  },
  {
   "cell_type": "code",
   "execution_count": 9,
   "metadata": {},
   "outputs": [],
   "source": [
    "# set loss,learning rate and optimizer\n",
    "criterion = nn.CrossEntropyLoss()\n",
    "learning_rate = 0.0001\n",
    "optimizer = optim.Adam(net.parameters(), lr=learning_rate,weight_decay=1e-5)"
   ]
  },
  {
   "cell_type": "code",
   "execution_count": 10,
   "metadata": {},
   "outputs": [
    {
     "name": "stdout",
     "output_type": "stream",
     "text": [
      "Epoch: 1/50,Training loss:0.6887051105499268,Validation loss: 0.6756080985069275,validation Accuracy: 63.5%\n",
      "Epoch: 2/50,Training loss:0.6787048906087876,Validation loss: 0.6603421494364738,validation Accuracy: 77.0%\n",
      "Epoch: 3/50,Training loss:0.6684571862220764,Validation loss: 0.6495331873496374,validation Accuracy: 72.25%\n",
      "Epoch: 4/50,Training loss:0.6571444630622864,Validation loss: 0.6385990269482136,validation Accuracy: 72.25%\n",
      "Epoch: 5/50,Training loss:0.6474307441711427,Validation loss: 0.6309816926717758,validation Accuracy: 72.25%\n",
      "Epoch: 6/50,Training loss:0.6385012398163478,Validation loss: 0.6207377289732298,validation Accuracy: 73.25%\n",
      "Epoch: 7/50,Training loss:0.6295425934450967,Validation loss: 0.6140495943171638,validation Accuracy: 68.5%\n",
      "Epoch: 8/50,Training loss:0.6219272181391716,Validation loss: 0.606359489262104,validation Accuracy: 75.25%\n",
      "Epoch: 9/50,Training loss:0.6145618312888675,Validation loss: 0.6024620433648428,validation Accuracy: 69.5%\n",
      "Epoch: 10/50,Training loss:0.6065152013301849,Validation loss: 0.5958189144730568,validation Accuracy: 75.75%\n",
      "Epoch: 11/50,Training loss:0.5987533068115061,Validation loss: 0.5919559455730699,validation Accuracy: 70.5%\n",
      "Epoch: 12/50,Training loss:0.5918195898334185,Validation loss: 0.5876989879955848,validation Accuracy: 76.75%\n",
      "Epoch: 13/50,Training loss:0.58600152020271,Validation loss: 0.5781172261788294,validation Accuracy: 76.25%\n",
      "Epoch: 14/50,Training loss:0.58028149413211,Validation loss: 0.5771020496530193,validation Accuracy: 72.5%\n",
      "Epoch: 15/50,Training loss:0.5758556471268336,Validation loss: 0.5707324360807736,validation Accuracy: 78.25%\n",
      "Epoch: 16/50,Training loss:0.5711496898904443,Validation loss: 0.5649210563860834,validation Accuracy: 78.75%\n",
      "Epoch: 17/50,Training loss:0.565483728577109,Validation loss: 0.5556981679709518,validation Accuracy: 84.5%\n",
      "Epoch: 18/50,Training loss:0.5606595339046585,Validation loss: 0.5480973130712906,validation Accuracy: 84.5%\n",
      "Epoch: 19/50,Training loss:0.5566219615308863,Validation loss: 0.5408425105637625,validation Accuracy: 84.5%\n",
      "Epoch: 20/50,Training loss:0.552751856148243,Validation loss: 0.5423851141706109,validation Accuracy: 78.75%\n",
      "Epoch: 21/50,Training loss:0.5484332778624127,Validation loss: 0.5353074277795496,validation Accuracy: 84.5%\n",
      "Epoch: 22/50,Training loss:0.5443868584253572,Validation loss: 0.532769925384359,validation Accuracy: 73.0%\n",
      "Epoch: 23/50,Training loss:0.5405288218156151,Validation loss: 0.5280224449284698,validation Accuracy: 79.25%\n",
      "Epoch: 24/50,Training loss:0.5367835991084576,Validation loss: 0.5283290506340563,validation Accuracy: 78.25%\n",
      "Epoch: 25/50,Training loss:0.5332693282365799,Validation loss: 0.5226621852815151,validation Accuracy: 78.75%\n",
      "Epoch: 26/50,Training loss:0.529946705698967,Validation loss: 0.5171512871120985,validation Accuracy: 84.5%\n",
      "Epoch: 27/50,Training loss:0.5268707312919475,Validation loss: 0.5120518617331982,validation Accuracy: 85.49999237060547%\n",
      "Epoch: 28/50,Training loss:0.5239432284874576,Validation loss: 0.5074854622195873,validation Accuracy: 79.75%\n",
      "Epoch: 29/50,Training loss:0.5217185663765874,Validation loss: 0.503997721934113,validation Accuracy: 85.5%\n",
      "Epoch: 30/50,Training loss:0.5194700504342714,Validation loss: 0.5026483656217654,validation Accuracy: 74.5%\n",
      "Epoch: 31/50,Training loss:0.517743200736661,Validation loss: 0.499470398671204,validation Accuracy: 79.75%\n",
      "Epoch: 32/50,Training loss:0.5156699788756668,Validation loss: 0.5002751116408035,validation Accuracy: 68.75%\n",
      "Epoch: 33/50,Training loss:0.51362917052977,Validation loss: 0.4983767039622321,validation Accuracy: 80.25%\n",
      "Epoch: 34/50,Training loss:0.5112746513941707,Validation loss: 0.49536384499686603,validation Accuracy: 79.75%\n",
      "Epoch: 35/50,Training loss:0.5091702323300497,Validation loss: 0.4914567478001118,validation Accuracy: 85.49999237060547%\n",
      "Epoch: 36/50,Training loss:0.5072845787637763,Validation loss: 0.4906975319609046,validation Accuracy: 74.0%\n",
      "Epoch: 37/50,Training loss:0.5049853599554783,Validation loss: 0.48710848562218045,validation Accuracy: 86.0%\n",
      "Epoch: 38/50,Training loss:0.5032340226204771,Validation loss: 0.4845895530950082,validation Accuracy: 80.25%\n",
      "Epoch: 39/50,Training loss:0.5014411772672945,Validation loss: 0.4807445182441137,validation Accuracy: 86.0%\n",
      "Epoch: 40/50,Training loss:0.4996507281810044,Validation loss: 0.47901183189824226,validation Accuracy: 80.25%\n",
      "Epoch: 41/50,Training loss:0.49846716450481865,Validation loss: 0.4777439719111454,validation Accuracy: 80.25%\n",
      "Epoch: 42/50,Training loss:0.49682941309043327,Validation loss: 0.4745905107508103,validation Accuracy: 86.0%\n",
      "Epoch: 43/50,Training loss:0.49547435315542426,Validation loss: 0.4712151648520037,validation Accuracy: 86.0%\n",
      "Epoch: 44/50,Training loss:0.4947901330210944,Validation loss: 0.4717148451811888,validation Accuracy: 74.0%\n",
      "Epoch: 45/50,Training loss:0.49311562067932535,Validation loss: 0.4718073918587632,validation Accuracy: 73.0%\n",
      "Epoch: 46/50,Training loss:0.4918278256836143,Validation loss: 0.46949583267712075,validation Accuracy: 78.75%\n",
      "Epoch: 47/50,Training loss:0.49112963562316064,Validation loss: 0.46666377759043204,validation Accuracy: 84.5%\n",
      "Epoch: 48/50,Training loss:0.49016722614566466,Validation loss: 0.4645182298651586,validation Accuracy: 85.5%\n",
      "Epoch: 49/50,Training loss:0.4889320523154977,Validation loss: 0.4633816014595178,validation Accuracy: 79.25%\n",
      "Epoch: 50/50,Training loss:0.48795803529024107,Validation loss: 0.46395243935287,validation Accuracy: 74.5%\n"
     ]
    }
   ],
   "source": [
    "# train the data and check for validation\n",
    "num_epochs = 50\n",
    "\n",
    "train_losses, valid_losses = [], []\n",
    "for epoch in range(num_epochs):\n",
    "    running_loss = 0\n",
    "    for i, (items, classes) in enumerate(train_loader):\n",
    "    \n",
    "        net.train()           \n",
    "\n",
    "        optimizer.zero_grad() \n",
    "        outputs = net(items)  \n",
    "        loss = criterion(outputs, classes) \n",
    "        loss.backward()       \n",
    "        optimizer.step()      \n",
    "\n",
    "        running_loss += loss.item()\n",
    "\n",
    "    else:\n",
    "        net.eval()\n",
    "        valid_loss = 0\n",
    "        accuracy = 0\n",
    "        with torch.no_grad():\n",
    "            for i, (items, classes) in enumerate(validation_loader):\n",
    "                outputs = net(items)\n",
    "                loss = criterion(outputs,classes)\n",
    "                valid_loss += loss.item()\n",
    "                ps = torch.exp(outputs)\n",
    "                \n",
    "                top_p, top_class = ps.topk(1, dim=1)\n",
    "                labels = classes.view(*top_class.shape)\n",
    "                \n",
    "                equals = top_class == labels\n",
    "                accuracy += torch.mean(equals.type(torch.FloatTensor))\n",
    "                \n",
    "                \n",
    "        train_losses.append(running_loss/len(train_loader))\n",
    "        valid_losses.append(valid_loss/len(validation_loader))\n",
    "        print(f'Epoch: {epoch+1}/{num_epochs},Training loss:{sum(train_losses)/len(train_losses)},Validation loss: {sum(valid_losses)/len(valid_losses)},validation Accuracy: {accuracy/len(validation_loader)*100}%')\n"
   ]
  },
  {
   "cell_type": "code",
   "execution_count": 13,
   "metadata": {},
   "outputs": [
    {
     "data": {
      "text/plain": [
       "<matplotlib.legend.Legend at 0x130552828>"
      ]
     },
     "execution_count": 13,
     "metadata": {},
     "output_type": "execute_result"
    },
    {
     "data": {
      "image/png": "[encoded data removed]",
      "text/plain": [
       "<Figure size 432x288 with 1 Axes>"
      ]
     },
     "metadata": {
      "needs_background": "light"
     },
     "output_type": "display_data"
    }
   ],
   "source": [
    "# Plot training and validation losses\n",
    "import matplotlib.pyplot as plt\n",
    "plt.plot(train_losses, label='Training loss')\n",
    "plt.plot(valid_losses, label='Validation loss')\n",
    "plt.legend(frameon=False)"
   ]
  },
  {
   "cell_type": "code",
   "execution_count": 14,
   "metadata": {},
   "outputs": [
    {
     "name": "stdout",
     "output_type": "stream",
     "text": [
      "Accuracy: 86.0%\n",
      "Predicted Outcome:tensor([0, 0, 1, 1])\n",
      "Actual Outcome:tensor([0, 0, 1, 1])\n"
     ]
    }
   ],
   "source": [
    "# predict test data:\n",
    "accuracy = 0\n",
    "with torch.no_grad():    \n",
    "    for i, (items, classes) in enumerate(test_loader):\n",
    "        outputs = net(items)\n",
    "        \n",
    "        ps = torch.exp(outputs)\n",
    "\n",
    "        top_p, top_class = ps.topk(1, dim=1)\n",
    "        labels = classes.view(*top_class.shape)\n",
    "\n",
    "        equals = top_class == labels\n",
    "        accuracy += torch.mean(equals.type(torch.FloatTensor))\n",
    "        \n",
    "print(f'Accuracy: {accuracy/len(test_loader)*100}%')\n",
    "print(f'Predicted Outcome:{top_class.view(*classes.shape)}')\n",
    "print(f'Actual Outcome:{classes}')      "
   ]
  },
  {
   "cell_type": "code",
   "execution_count": null,
   "metadata": {},
   "outputs": [],
   "source": []
  }
 ],
 "metadata": {
  "kernelspec": {
   "display_name": "Python 3",
   "language": "python",
   "name": "python3"
  },
  "language_info": {
   "codemirror_mode": {
    "name": "ipython",
    "version": 3
   },
   "file_extension": ".py",
   "mimetype": "text/x-python",
   "name": "python",
   "nbconvert_exporter": "python",
   "pygments_lexer": "ipython3",
   "version": "3.7.3"
  }
 },
 "nbformat": 4,
 "nbformat_minor": 2
}
